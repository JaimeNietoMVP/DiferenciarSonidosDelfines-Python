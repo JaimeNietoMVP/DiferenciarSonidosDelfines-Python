{
 "cells": [
  {
   "cell_type": "code",
   "execution_count": 3,
   "id": "9857bf2b",
   "metadata": {},
   "outputs": [],
   "source": [
    "import numpy as np"
   ]
  },
  {
   "cell_type": "code",
   "execution_count": 4,
   "id": "c138aaa5",
   "metadata": {},
   "outputs": [],
   "source": [
    "matriz12= np.load(\"problema12.npy\",allow_pickle=True)"
   ]
  },
  {
   "cell_type": "code",
   "execution_count": 5,
   "id": "180875a5",
   "metadata": {},
   "outputs": [
    {
     "name": "stdout",
     "output_type": "stream",
     "text": [
      "[array([-3.00329170e-05,  9.51902005e-05,  1.54042765e-04, ...,\n",
      "        -2.55154284e-05,  1.01163522e-04, -4.78433223e-05])     44100]\n"
     ]
    }
   ],
   "source": [
    "print(matriz12)"
   ]
  },
  {
   "cell_type": "code",
   "execution_count": 6,
   "id": "e79fd871",
   "metadata": {},
   "outputs": [
    {
     "data": {
      "text/plain": [
       "(2,)"
      ]
     },
     "execution_count": 6,
     "metadata": {},
     "output_type": "execute_result"
    }
   ],
   "source": [
    "matriz12.shape\n"
   ]
  },
  {
   "cell_type": "code",
   "execution_count": 7,
   "id": "d79819dc",
   "metadata": {},
   "outputs": [
    {
     "data": {
      "text/plain": [
       "1"
      ]
     },
     "execution_count": 7,
     "metadata": {},
     "output_type": "execute_result"
    }
   ],
   "source": [
    "matriz12.ndim"
   ]
  },
  {
   "cell_type": "code",
   "execution_count": 8,
   "id": "76f42c78",
   "metadata": {},
   "outputs": [
    {
     "data": {
      "text/plain": [
       "44100"
      ]
     },
     "execution_count": 8,
     "metadata": {},
     "output_type": "execute_result"
    }
   ],
   "source": [
    "matriz12[1]"
   ]
  },
  {
   "cell_type": "code",
   "execution_count": 9,
   "id": "76ebd81c",
   "metadata": {},
   "outputs": [
    {
     "data": {
      "text/plain": [
       "88200"
      ]
     },
     "execution_count": 9,
     "metadata": {},
     "output_type": "execute_result"
    }
   ],
   "source": [
    "len(matriz12[0])"
   ]
  },
  {
   "cell_type": "code",
   "execution_count": 10,
   "id": "b48588fa",
   "metadata": {},
   "outputs": [],
   "source": [
    "signal_data= matriz12[0]\n",
    "sampling_rate=matriz12[1]"
   ]
  },
  {
   "cell_type": "code",
   "execution_count": 11,
   "id": "f8eb72ac",
   "metadata": {},
   "outputs": [
    {
     "name": "stdout",
     "output_type": "stream",
     "text": [
      "Frecuencia del animal: 0.0 Hz\n",
      "Tiempo de inicio del animal: 8.206 segundos\n"
     ]
    }
   ],
   "source": [
    "import numpy as np\n",
    "import matplotlib.pyplot as plt\n",
    "from scipy.signal import find_peaks\n",
    "\n",
    "\n",
    "def estimate_animal_frequency(signal_data, sampling_rate):\n",
    "    # Aplicar la Transformada de Fourier\n",
    "    fft_result = np.fft.fft(signal_data)\n",
    "    freqs = np.fft.fftfreq(len(signal_data), 1/sampling_rate)\n",
    "\n",
    "    # Encontrar el pico correspondiente a la frecuencia del animal\n",
    "    animal_peak_idx = np.argmax(np.abs(fft_result))\n",
    "    animal_frequency = np.abs(freqs[animal_peak_idx])\n",
    "\n",
    "    return animal_frequency\n",
    "\n",
    "def estimate_animal_start_time(signal_data, threshold=0.1):\n",
    "    # Encontrar los picos en la señal\n",
    "    peaks, _ = find_peaks(signal_data, height=threshold)\n",
    "\n",
    "    # Seleccionar el primer pico como inicio del canto del animal\n",
    "    animal_start_time = peaks[0]\n",
    "\n",
    "    return animal_start_time\n",
    "\n",
    "# Implementar funciones similares para los demás puntos (b - h)\n",
    "\n",
    "# Ejemplo de uso\n",
    "sampling_rate = 1000  # Frecuencia de muestreo en Hz\n",
    "animal_frequency = estimate_animal_frequency(signal_data, sampling_rate)\n",
    "animal_start_time = estimate_animal_start_time(signal_data)\n",
    "\n",
    "# Imprimir resultados\n",
    "print(f\"Frecuencia del animal: {animal_frequency} Hz\")\n",
    "print(f\"Tiempo de inicio del animal: {animal_start_time / sampling_rate} segundos\")\n"
   ]
  },
  {
   "cell_type": "code",
   "execution_count": 12,
   "id": "e4223606",
   "metadata": {},
   "outputs": [
    {
     "name": "stdout",
     "output_type": "stream",
     "text": [
      "Tiempo de final del animal: 79.991 segundos\n",
      "Frecuencia del motor: 8.16326530612245 Hz\n",
      "Energía del animal: 1372228000208.6265 milijulios\n"
     ]
    }
   ],
   "source": [
    "def estimate_animal_end_time(signal_data, threshold=0.1):\n",
    "    # Encontrar los picos en la señal\n",
    "    peaks, _ = find_peaks(signal_data, height=threshold)\n",
    "\n",
    "    # Seleccionar el último pico como final del canto del animal\n",
    "    animal_end_time = peaks[-1]\n",
    "\n",
    "    return animal_end_time\n",
    "\n",
    "def estimate_motor_frequency(signal_data, sampling_rate):\n",
    "    # Aplicar la Transformada de Fourier\n",
    "    fft_result = np.fft.fft(signal_data)\n",
    "    freqs = np.fft.fftfreq(len(signal_data), 1/sampling_rate)\n",
    "\n",
    "    # Supongamos que la frecuencia fundamental del motor es la segunda más grande\n",
    "    motor_frequency_idx = np.argsort(np.abs(fft_result))[::-1][1]\n",
    "    motor_frequency = np.abs(freqs[motor_frequency_idx])\n",
    "\n",
    "    return motor_frequency\n",
    "\n",
    "def estimate_animal_energy(signal_data, sampling_rate, animal_start_time, animal_end_time):\n",
    "    # Calcular la energía en la frecuencia del animal usando la FFT\n",
    "    fft_result = np.fft.fft(signal_data)\n",
    "    freqs = np.fft.fftfreq(len(signal_data), 1/sampling_rate)\n",
    "\n",
    "    animal_energy_idx = np.abs(freqs) == estimate_animal_frequency(signal_data, sampling_rate)\n",
    "    animal_energy = np.sum(np.abs(fft_result[animal_energy_idx]) ** 2)\n",
    "\n",
    "    # Convertir la energía a milijulios\n",
    "    animal_energy_milijoules = animal_energy * 1e3\n",
    "\n",
    "    return animal_energy_milijoules\n",
    "\n",
    "# Implementar funciones similares para los demás puntos (g - h)\n",
    "\n",
    "# Ejemplo de uso\n",
    "animal_end_time = estimate_animal_end_time(signal_data)\n",
    "motor_frequency = estimate_motor_frequency(signal_data, sampling_rate)\n",
    "animal_energy = estimate_animal_energy(signal_data, sampling_rate, animal_start_time, animal_end_time)\n",
    "\n",
    "# Imprimir resultados\n",
    "print(f\"Tiempo de final del animal: {animal_end_time / sampling_rate} segundos\")\n",
    "print(f\"Frecuencia del motor: {motor_frequency} Hz\")\n",
    "print(f\"Energía del animal: {animal_energy} milijulios\")\n"
   ]
  },
  {
   "cell_type": "code",
   "execution_count": 13,
   "id": "e28621d4",
   "metadata": {
    "scrolled": true
   },
   "outputs": [
    {
     "name": "stdout",
     "output_type": "stream",
     "text": [
      "Tiempo de final del motor: 79.991 segundos\n",
      "Energía del motor: 1542797101256.9941 milijulios\n",
      "Energía total: 5185670231180.716 milijulios\n"
     ]
    }
   ],
   "source": [
    "def estimate_motor_end_time(signal_data, threshold=0.1):\n",
    "    # Encontrar los picos en la señal\n",
    "    peaks, _ = find_peaks(signal_data, height=threshold)\n",
    "\n",
    "    # Seleccionar el último pico como final del sonido del motor\n",
    "    motor_end_time = peaks[-1]\n",
    "\n",
    "    return motor_end_time\n",
    "\n",
    "def estimate_motor_energy(signal_data, sampling_rate, motor_start_time, motor_end_time):\n",
    "    # Calcular la energía en la frecuencia del motor usando la FFT\n",
    "    fft_result = np.fft.fft(signal_data)\n",
    "    freqs = np.fft.fftfreq(len(signal_data), 1/sampling_rate)\n",
    "\n",
    "    motor_energy_idx = np.abs(freqs) == estimate_motor_frequency(signal_data, sampling_rate)\n",
    "    motor_energy = np.sum(np.abs(fft_result[motor_energy_idx]) ** 2)\n",
    "\n",
    "    # Convertir la energía a milijulios\n",
    "    motor_energy_milijoules = motor_energy * 1e3\n",
    "\n",
    "    return motor_energy_milijoules\n",
    "\n",
    "def estimate_total_energy(signal_data, sampling_rate):\n",
    "    # Calcular la energía total de la señal usando la FFT\n",
    "    fft_result = np.fft.fft(signal_data)\n",
    "    total_energy = np.sum(np.abs(fft_result) ** 2)\n",
    "\n",
    "    # Convertir la energía a milijulios\n",
    "    total_energy_milijoules = total_energy * 1e3\n",
    "\n",
    "    return total_energy_milijoules\n",
    "\n",
    "# Ejemplo de uso\n",
    "motor_end_time = estimate_motor_end_time(signal_data)\n",
    "motor_energy = estimate_motor_energy(signal_data, sampling_rate, animal_end_time, motor_end_time)\n",
    "total_energy = estimate_total_energy(signal_data, sampling_rate)\n",
    "\n",
    "# Imprimir resultados\n",
    "print(f\"Tiempo de final del motor: {motor_end_time / sampling_rate} segundos\")\n",
    "print(f\"Energía del motor: {motor_energy} milijulios\")\n",
    "print(f\"Energía total: {total_energy} milijulios\")\n"
   ]
  },
  {
   "cell_type": "code",
   "execution_count": 14,
   "id": "964c5f73",
   "metadata": {},
   "outputs": [
    {
     "name": "stdout",
     "output_type": "stream",
     "text": [
      "Espectrograma guardado en: spectrogram.png\n"
     ]
    }
   ],
   "source": [
    "from scipy.signal import butter, lfilter, freqz, impulse, step, zpk2tf\n",
    "\n",
    "def plot_spectrogram(signal_data, sampling_rate, file_name):\n",
    "    plt.specgram(signal_data, Fs=sampling_rate, cmap='viridis')\n",
    "    plt.title('Espectrograma de la Señal')\n",
    "    plt.xlabel('Tiempo (s)')\n",
    "    plt.ylabel('Frecuencia (Hz)')\n",
    "    plt.savefig(file_name)\n",
    "    plt.close()\n",
    "\n",
    "# Ejemplo de uso\n",
    "spectrogram_file = 'spectrogram.png'\n",
    "plot_spectrogram(signal_data, sampling_rate, spectrogram_file)\n",
    "print(f\"Espectrograma guardado en: {spectrogram_file}\")\n",
    "\n",
    "# Puedes agregar más funciones según tus necesidades, como la generación de filtros y sus funciones de transferencia, polos y ceros, respuestas impulsivas y de escalón.\n",
    "\n",
    "def generate_lowpass_filter(cutoff_frequency, sampling_rate, order=4):\n",
    "    nyquist = 0.5 * sampling_rate\n",
    "    normal_cutoff = cutoff_frequency / nyquist\n",
    "    b, a = butter(order, normal_cutoff, btype='low', analog=False)\n",
    "    return b, a\n",
    "\n",
    "# Ejemplo de uso\n",
    "cutoff_freq = 100  # Frecuencia de corte en Hz\n",
    "lowpass_b, lowpass_a = generate_lowpass_filter(cutoff_freq, sampling_rate)\n",
    "\n",
    "# Puedes utilizar lowpass_b y lowpass_a para aplicar el filtro a tu señal utilizando la función lfilter de scipy.signal.\n"
   ]
  },
  {
   "cell_type": "code",
   "execution_count": 15,
   "id": "234d9db2",
   "metadata": {},
   "outputs": [],
   "source": [
    "from scipy.signal import butter, lfilter, freqz, impulse, step, zpk2tf\n",
    "\n",
    "\n",
    "    \n",
    "def plot_filter_response(b, a, sampling_rate, file_name):\n",
    "    w, h = freqz(b, a, worN=8000, fs=sampling_rate)\n",
    "    plt.figure(figsize=(10, 6))\n",
    "    plt.plot(0.5 * sampling_rate * w / np.pi, np.abs(h), 'b')\n",
    "    plt.title('Respuesta en Frecuencia del Filtro')\n",
    "    plt.xlabel('Frecuencia (Hz)')\n",
    "    plt.ylabel('Ganancia')\n",
    "    plt.grid()\n",
    "    plt.savefig(file_name)\n",
    "    plt.close()\n",
    "\n",
    "# Ejemplo de uso\n",
    "cutoff_freq = 100  # Frecuencia de corte en Hz\n",
    "order = 4\n",
    "lowpass_b, lowpass_a = butter(order, cutoff_freq / (0.5 * sampling_rate), btype='low', analog=False)\n",
    "\n",
    "# Guardar respuestas del filtro\n",
    "plot_filter_response(lowpass_b, lowpass_a, sampling_rate, 'filter_response.png')\n",
    "\n",
    "\n",
    "def plot_impulse_response(b, a, file_name):\n",
    "    t, y = impulse((b, a))\n",
    "    plt.stem(t, y)\n",
    "    plt.title('Respuesta al Impulso del Filtro')\n",
    "    plt.xlabel('Tiempo (muestras)')\n",
    "    plt.ylabel('Amplitud')\n",
    "    plt.savefig(file_name)\n",
    "    plt.close()\n",
    "\n",
    "def plot_step_response(b, a, file_name):\n",
    "    t, y = step((b, a))\n",
    "    plt.plot(t, y)\n",
    "    plt.title('Respuesta al Escalón del Filtro')\n",
    "    plt.xlabel('Tiempo (muestras)')\n",
    "    plt.ylabel('Amplitud')\n",
    "    plt.savefig(file_name)\n",
    "    plt.close()\n",
    "\n",
    "# Ejemplo de uso\n",
    "cutoff_freq = 100  # Frecuencia de corte en Hz\n",
    "order = 4\n",
    "lowpass_b, lowpass_a = butter(order, cutoff_freq / (0.5 * sampling_rate), btype='low', analog=False)\n",
    "\n",
    "\n",
    "\n",
    "# Guardar respuestas del filtro\n",
    "plot_filter_response(lowpass_b, lowpass_a, sampling_rate, 'filter_response.png')\n",
    "plot_impulse_response(lowpass_b, lowpass_a, 'impulse_response.png')\n",
    "plot_step_response(lowpass_b, lowpass_a, 'step_response.png')\n"
   ]
  },
  {
   "cell_type": "code",
   "execution_count": 16,
   "id": "df6dbe54",
   "metadata": {
    "scrolled": true
   },
   "outputs": [
    {
     "data": {
      "image/png": "[encoded data removed]",
      "text/plain": [
       "<Figure size 1000x600 with 1 Axes>"
      ]
     },
     "metadata": {},
     "output_type": "display_data"
    }
   ],
   "source": [
    "import matplotlib.pyplot as plt\n",
    "import numpy as np\n",
    "\n",
    "# Asegurarse de que la representación sea en línea en Jupyter Notebook\n",
    "%matplotlib inline\n",
    "\n",
    "def plot_signal(signal_data, sampling_rate):\n",
    "    time = np.arange(0, len(signal_data) / sampling_rate, 1 / sampling_rate)\n",
    "    \n",
    "    plt.figure(figsize=(10, 6))\n",
    "    plt.plot(time, signal_data,alpha=0.6)\n",
    "    plt.title('Gráfica de Amplitud de la Señal en el Tiempo')\n",
    "    plt.xlabel('Tiempo (s)')\n",
    "    plt.ylabel('Amplitud')\n",
    "    plt.grid()\n",
    "    plt.show()\n",
    "\n",
    "# Ejemplo de uso\n",
    "plot_signal(signal_data, sampling_rate)\n"
   ]
  },
  {
   "cell_type": "code",
   "execution_count": 17,
   "id": "b59e1e21",
   "metadata": {},
   "outputs": [
    {
     "name": "stdout",
     "output_type": "stream",
     "text": [
      "Gráfica de la señal guardada en: signal_plot.png\n"
     ]
    }
   ],
   "source": [
    "\n",
    "\n",
    "def plot_signal(signal_data, sampling_rate, file_name):\n",
    "    time = np.arange(0, len(signal_data) / sampling_rate, 1 / sampling_rate)\n",
    "    \n",
    "    plt.figure(figsize=(10, 6))\n",
    "    plt.plot(time, signal_data)\n",
    "    plt.title('Gráfica de Amplitud de la Señal en el Tiempo')\n",
    "    plt.xlabel('Tiempo (s)')\n",
    "    plt.ylabel('Amplitud')\n",
    "    plt.grid()\n",
    "    plt.savefig(file_name)\n",
    "    plt.close()\n",
    "\n",
    "# Ejemplo de uso\n",
    "signal_plot_file = 'signal_plot.png'\n",
    "plot_signal(signal_data, sampling_rate, signal_plot_file)\n",
    "print(f\"Gráfica de la señal guardada en: {signal_plot_file}\")\n"
   ]
  },
  {
   "cell_type": "code",
   "execution_count": 18,
   "id": "dd473605",
   "metadata": {},
   "outputs": [
    {
     "data": {
      "image/png": "[encoded data removed]",
      "text/plain": [
       "<Figure size 1200x600 with 1 Axes>"
      ]
     },
     "metadata": {},
     "output_type": "display_data"
    },
    {
     "name": "stdout",
     "output_type": "stream",
     "text": [
      "Gráfico de frecuencias guardado en: frequency_components_plot.png\n"
     ]
    }
   ],
   "source": [
    "import matplotlib.pyplot as plt\n",
    "import numpy as np\n",
    "from scipy.signal import find_peaks\n",
    "\n",
    "def plot_frequency_components(signal_data, sampling_rate, animal_frequency, motor_frequency, file_name):\n",
    "    # Aplicar la Transformada de Fourier\n",
    "    fft_result = np.fft.fft(signal_data)\n",
    "    freqs = np.fft.fftfreq(len(signal_data), 1/sampling_rate)\n",
    "\n",
    "    # Encontrar los picos en la magnitud de la FFT\n",
    "    peaks, _ = find_peaks(np.abs(fft_result))\n",
    "\n",
    "    # Crear una gráfica de línea de la magnitud de la FFT\n",
    "    plt.figure(figsize=(12, 6))\n",
    "    plt.plot(freqs, np.abs(fft_result))\n",
    "    plt.title('Frecuencias en la Señal')\n",
    "    plt.xlabel('Frecuencia (Hz)')\n",
    "    plt.ylabel('Magnitud')\n",
    "    plt.grid()\n",
    "\n",
    "    # Resaltar las frecuencias del animal y el motor\n",
    "    plt.scatter(freqs[peaks], np.abs(fft_result[peaks]), color='red', label='Picos de FFT')\n",
    "\n",
    "    # Resaltar la frecuencia del animal y del motor con líneas verticales\n",
    "    plt.axvline(x=animal_frequency, color='green', linestyle='--', label='Frecuencia del animal')\n",
    "    plt.axvline(x=motor_frequency, color='blue', linestyle='--', label='Frecuencia del motor')\n",
    "\n",
    "    plt.legend()\n",
    "    plt.savefig(file_name)\n",
    "    plt.show()\n",
    "\n",
    "# Ejemplo de uso\n",
    "animal_frequency = 0.0  # Reemplaza con la frecuencia del animal\n",
    "motor_frequency = 8.16326530612245   # Reemplaza con la frecuencia del motor\n",
    "\n",
    "frequency_components_plot_file = 'frequency_components_plot.png'\n",
    "plot_frequency_components(signal_data, sampling_rate, animal_frequency, motor_frequency, frequency_components_plot_file)\n",
    "print(f\"Gráfico de frecuencias guardado en: {frequency_components_plot_file}\")\n"
   ]
  },
  {
   "cell_type": "code",
   "execution_count": null,
   "id": "977ef502",
   "metadata": {},
   "outputs": [],
   "source": []
  },
  {
   "cell_type": "code",
   "execution_count": null,
   "id": "cb0bcb01",
   "metadata": {},
   "outputs": [],
   "source": []
  }
 ],
 "metadata": {
  "kernelspec": {
   "display_name": "Python 3 (ipykernel)",
   "language": "python",
   "name": "python3"
  },
  "language_info": {
   "codemirror_mode": {
    "name": "ipython",
    "version": 3
   },
   "file_extension": ".py",
   "mimetype": "text/x-python",
   "name": "python",
   "nbconvert_exporter": "python",
   "pygments_lexer": "ipython3",
   "version": "3.11.4"
  }
 },
 "nbformat": 4,
 "nbformat_minor": 5
}
